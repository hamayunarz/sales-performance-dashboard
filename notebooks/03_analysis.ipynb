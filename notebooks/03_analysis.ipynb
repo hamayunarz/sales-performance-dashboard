{
 "cells": [
  {
   "cell_type": "code",
   "execution_count": 60,
   "metadata": {},
   "outputs": [],
   "source": [
    "import pandas as pd\n",
    "import numpy as np\n",
    "from datetime import datetime\n"
   ]
  },
  {
   "cell_type": "code",
   "execution_count": 61,
   "metadata": {},
   "outputs": [],
   "source": [
    "df = pd.read_csv('../data/processed/cleaned_data.csv')\n"
   ]
  },
  {
   "cell_type": "code",
   "execution_count": 62,
   "metadata": {},
   "outputs": [
    {
     "name": "stdout",
     "output_type": "stream",
     "text": [
      "Converted Order.Date to datetime\n",
      "Converted Ship.Date to datetime\n"
     ]
    }
   ],
   "source": [
    "date_columns = ['Order.Date', 'Ship.Date']\n",
    "for col in date_columns:\n",
    "    if col in df.columns:\n",
    "        df[col] = pd.to_datetime(df[col], errors='coerce')\n",
    "        print(f\"Converted {col} to datetime\")"
   ]
  },
  {
   "cell_type": "code",
   "execution_count": 63,
   "metadata": {},
   "outputs": [
    {
     "name": "stdout",
     "output_type": "stream",
     "text": [
      "<class 'pandas.core.frame.DataFrame'>\n",
      "RangeIndex: 51290 entries, 0 to 51289\n",
      "Data columns (total 35 columns):\n",
      " #   Column                Non-Null Count  Dtype         \n",
      "---  ------                --------------  -----         \n",
      " 0   Category              51290 non-null  object        \n",
      " 1   City                  51290 non-null  object        \n",
      " 2   Country               51290 non-null  object        \n",
      " 3   Customer.ID           51290 non-null  object        \n",
      " 4   Customer.Name         51290 non-null  object        \n",
      " 5   Discount              51290 non-null  float64       \n",
      " 6   Market                51290 non-null  object        \n",
      " 7   è®°å½æ°             51290 non-null  int64         \n",
      " 8   Order.Date            51290 non-null  datetime64[ns]\n",
      " 9   Order.ID              51290 non-null  object        \n",
      " 10  Order.Priority        51290 non-null  object        \n",
      " 11  Product.ID            51290 non-null  object        \n",
      " 12  Product.Name          51290 non-null  object        \n",
      " 13  Profit                51290 non-null  float64       \n",
      " 14  Quantity              51290 non-null  int64         \n",
      " 15  Region                51290 non-null  object        \n",
      " 16  Row.ID                51290 non-null  int64         \n",
      " 17  Sales                 51290 non-null  int64         \n",
      " 18  Segment               51290 non-null  object        \n",
      " 19  Ship.Date             51290 non-null  datetime64[ns]\n",
      " 20  Ship.Mode             51290 non-null  object        \n",
      " 21  Shipping.Cost         51290 non-null  float64       \n",
      " 22  State                 51290 non-null  object        \n",
      " 23  Sub.Category          51290 non-null  object        \n",
      " 24  Year                  51290 non-null  int64         \n",
      " 25  Market2               51290 non-null  object        \n",
      " 26  weeknum               51290 non-null  int64         \n",
      " 27  Month                 51290 non-null  int64         \n",
      " 28  Quarter               51290 non-null  int64         \n",
      " 29  Profit_Margin         51290 non-null  float64       \n",
      " 30  Shipping_Time         51290 non-null  int64         \n",
      " 31  Day_of_Week           51290 non-null  int64         \n",
      " 32  Month_Name            51290 non-null  object        \n",
      " 33  Discount_Amount       51290 non-null  float64       \n",
      " 34  Revenue_per_Quantity  51290 non-null  float64       \n",
      "dtypes: datetime64[ns](2), float64(6), int64(10), object(17)\n",
      "memory usage: 13.7+ MB\n"
     ]
    }
   ],
   "source": [
    "df.info()"
   ]
  },
  {
   "cell_type": "code",
   "execution_count": 64,
   "metadata": {},
   "outputs": [],
   "source": [
    "def generate_sales_summary(df):\n",
    "    print(\"Generating sales summary...\")\n",
    "    \n",
    "    sales_summary = {\n",
    "        'total_sales': df['Sales'].sum(),\n",
    "        'total_profit': df['Profit'].sum(),\n",
    "        'average_order_value': df['Sales'].mean(),\n",
    "        'profit_margin': (df['Profit'].sum() / df['Sales'].sum()) * 100,\n",
    "        'total_orders': len(df),\n",
    "        'unique_customers': df['Customer.ID'].nunique(),\n",
    "        'date_range': f\"{df['Order.Date'].min()} to {df['Order.Date'].max()}\"\n",
    "    }\n",
    "    \n",
    "    # Convert to DataFrame for easy export\n",
    "    summary_df = pd.DataFrame(list(sales_summary.items()), \n",
    "                             columns=['Metric', 'Value'])\n",
    "    summary_df.to_csv('../data/processed/sales_summary.csv', index=False)\n",
    "    \n",
    "    return summary_df"
   ]
  },
  {
   "cell_type": "code",
   "execution_count": 65,
   "metadata": {},
   "outputs": [
    {
     "name": "stdout",
     "output_type": "stream",
     "text": [
      "Generating sales summary...\n"
     ]
    }
   ],
   "source": [
    "sales_summary = generate_sales_summary(df)"
   ]
  },
  {
   "cell_type": "code",
   "execution_count": 66,
   "metadata": {},
   "outputs": [],
   "source": [
    "def analyze_customer_segments(df):\n",
    "    \"\"\"Analyze customer segments and behavior\"\"\"\n",
    "    \n",
    "    customer_analysis = df.groupby('Customer.ID').agg({\n",
    "        'Sales': ['sum', 'count', 'mean'],\n",
    "        'Profit': 'sum',\n",
    "        'Order.Date': ['min', 'max']\n",
    "    }).round(2)\n",
    "    \n",
    "    # Flatten column names\n",
    "    customer_analysis.columns = ['Total_Sales', 'Order_Count', 'Avg_Order_Value', \n",
    "                                'Total_Profit', 'First_Order', 'Last_Order']\n",
    "    \n",
    "    # Add customer segments based on sales\n",
    "    customer_analysis['Customer_Segment'] = pd.cut(\n",
    "        customer_analysis['Total_Sales'], \n",
    "        bins=[0, 500, 2000, float('inf')], \n",
    "        labels=['Low Value', 'Medium Value', 'High Value']\n",
    "    )\n",
    "    \n",
    "    # Reset index to include Customer ID\n",
    "    customer_analysis = customer_analysis.reset_index()\n",
    "    customer_analysis.to_csv('../data/processed/customer_analysis.csv', index=False)\n",
    "    \n",
    "    return customer_analysis"
   ]
  },
  {
   "cell_type": "code",
   "execution_count": 67,
   "metadata": {},
   "outputs": [],
   "source": [
    "customer_analysis = analyze_customer_segments(df)\n"
   ]
  },
  {
   "cell_type": "code",
   "execution_count": 68,
   "metadata": {},
   "outputs": [],
   "source": [
    "def analyze_regional_performance(df):\n",
    "    \"\"\"Analyze performance by region/country\"\"\"\n",
    "    \n",
    "    regional_cols = ['Country', 'Region', 'State']\n",
    "    available_cols = [col for col in regional_cols if col in df.columns]\n",
    "    \n",
    "    if not available_cols:\n",
    "        print(\"No regional columns found\")\n",
    "        return None\n",
    "    \n",
    "    # Use the first available regional column\n",
    "    region_col = available_cols[0]\n",
    "    \n",
    "    regional_analysis = df.groupby(region_col).agg({\n",
    "        'Sales': ['sum', 'mean', 'count'],\n",
    "        'Profit': ['sum', 'mean'],\n",
    "        'Customer.ID': 'nunique'\n",
    "    }).round(2)\n",
    "    \n",
    "    # Flatten column names\n",
    "    regional_analysis.columns = ['Total_Sales', 'Avg_Sales', 'Order_Count', \n",
    "                                'Total_Profit', 'Avg_Profit', 'Unique_Customers']\n",
    "    \n",
    "    # Add profit margin\n",
    "    regional_analysis['Profit_Margin'] = (\n",
    "        regional_analysis['Total_Profit'] / regional_analysis['Total_Sales'] * 100\n",
    "    ).round(2)\n",
    "    \n",
    "    # Sort by total sales\n",
    "    regional_analysis = regional_analysis.sort_values('Total_Sales', ascending=False)\n",
    "    regional_analysis = regional_analysis.reset_index()\n",
    "    \n",
    "    regional_analysis.to_csv('../data/processed/regional_analysis.csv', index=False)\n",
    "    \n",
    "    return regional_analysis"
   ]
  },
  {
   "cell_type": "code",
   "execution_count": 69,
   "metadata": {},
   "outputs": [],
   "source": [
    "regional_analysis = analyze_regional_performance(df)\n"
   ]
  },
  {
   "cell_type": "code",
   "execution_count": 70,
   "metadata": {},
   "outputs": [],
   "source": [
    "def analyze_product_performance(df):\n",
    "    \"\"\"Analyze product performance\"\"\"\n",
    "    \n",
    "    product_cols = ['Category', 'Sub-Category', 'Product Name']\n",
    "    available_cols = [col for col in product_cols if col in df.columns]\n",
    "    \n",
    "    if not available_cols:\n",
    "        print(\"No product columns found\")\n",
    "        return None\n",
    "    \n",
    "    # Analyze by Category first\n",
    "    category_col = available_cols[0]\n",
    "    \n",
    "    product_analysis = df.groupby(category_col).agg({\n",
    "        'Sales': ['sum', 'mean', 'count'],\n",
    "        'Profit': ['sum', 'mean'],\n",
    "        'Quantity': 'sum' if 'Quantity' in df.columns else 'count'\n",
    "    }).round(2)\n",
    "    \n",
    "    # Flatten column names\n",
    "    if 'Quantity' in df.columns:\n",
    "        product_analysis.columns = ['Total_Sales', 'Avg_Sales', 'Order_Count', \n",
    "                                   'Total_Profit', 'Avg_Profit', 'Total_Quantity']\n",
    "    else:\n",
    "        product_analysis.columns = ['Total_Sales', 'Avg_Sales', 'Order_Count', \n",
    "                                   'Total_Profit', 'Avg_Profit', 'Total_Orders']\n",
    "    \n",
    "    # Add profit margin\n",
    "    product_analysis['Profit_Margin'] = (\n",
    "        product_analysis['Total_Profit'] / product_analysis['Total_Sales'] * 100\n",
    "    ).round(2)\n",
    "    \n",
    "    # Sort by total sales\n",
    "    product_analysis = product_analysis.sort_values('Total_Sales', ascending=False)\n",
    "    product_analysis = product_analysis.reset_index()\n",
    "    \n",
    "    product_analysis.to_csv('../data/processed/product_performance.csv', index=False)\n",
    "    \n",
    "    return product_analysis"
   ]
  },
  {
   "cell_type": "code",
   "execution_count": 71,
   "metadata": {},
   "outputs": [],
   "source": [
    "product_analysis = analyze_product_performance(df)\n"
   ]
  },
  {
   "cell_type": "code",
   "execution_count": 72,
   "metadata": {},
   "outputs": [],
   "source": [
    "def analyze_monthly_trends(df):\n",
    "    \"\"\"Analyze monthly sales trends\"\"\"\n",
    "    \n",
    "    # Create year-month column\n",
    "    df['Year_Month'] = df['Order.Date'].dt.to_period('M')\n",
    "    \n",
    "    monthly_trends = df.groupby('Year_Month').agg({\n",
    "        'Sales': ['sum', 'mean', 'count'],\n",
    "        'Profit': ['sum', 'mean'],\n",
    "        'Customer.ID': 'nunique'\n",
    "    }).round(2)\n",
    "    \n",
    "    # Flatten column names\n",
    "    monthly_trends.columns = ['Total_Sales', 'Avg_Sales', 'Order_Count', \n",
    "                             'Total_Profit', 'Avg_Profit', 'Unique_Customers']\n",
    "    \n",
    "    # Add profit margin\n",
    "    monthly_trends['Profit_Margin'] = (\n",
    "        monthly_trends['Total_Profit'] / monthly_trends['Total_Sales'] * 100\n",
    "    ).round(2)\n",
    "    \n",
    "    # Reset index\n",
    "    monthly_trends = monthly_trends.reset_index()\n",
    "    monthly_trends['Year_Month'] = monthly_trends['Year_Month'].astype(str)\n",
    "    \n",
    "    monthly_trends.to_csv('../data/processed/monthly_trend.csv', index=False)\n",
    "    \n",
    "    return monthly_trends"
   ]
  },
  {
   "cell_type": "code",
   "execution_count": 73,
   "metadata": {},
   "outputs": [],
   "source": [
    "monthly_trends = analyze_monthly_trends(df)\n"
   ]
  },
  {
   "cell_type": "code",
   "execution_count": null,
   "metadata": {},
   "outputs": [],
   "source": []
  },
  {
   "cell_type": "code",
   "execution_count": null,
   "metadata": {},
   "outputs": [],
   "source": []
  }
 ],
 "metadata": {
  "kernelspec": {
   "display_name": "base",
   "language": "python",
   "name": "python3"
  },
  "language_info": {
   "codemirror_mode": {
    "name": "ipython",
    "version": 3
   },
   "file_extension": ".py",
   "mimetype": "text/x-python",
   "name": "python",
   "nbconvert_exporter": "python",
   "pygments_lexer": "ipython3",
   "version": "3.12.7"
  }
 },
 "nbformat": 4,
 "nbformat_minor": 2
}
